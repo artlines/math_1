{
  "nbformat": 4,
  "nbformat_minor": 0,
  "metadata": {
    "colab": {
      "name": "Базовая математика. Занятие 1. Матрицы",
      "provenance": [],
      "collapsed_sections": [],
      "include_colab_link": true
    },
    "kernelspec": {
      "name": "python3",
      "display_name": "Python 3"
    }
  },
  "cells": [
    {
      "cell_type": "markdown",
      "metadata": {
        "id": "view-in-github",
        "colab_type": "text"
      },
      "source": [
        "<a href=\"https://colab.research.google.com/github/artlines/math_1/blob/master/%D0%91%D0%B0%D0%B7%D0%BE%D0%B2%D0%B0%D1%8F_%D0%BC%D0%B0%D1%82%D0%B5%D0%BC%D0%B0%D1%82%D0%B8%D0%BA%D0%B0_%D0%97%D0%B0%D0%BD%D1%8F%D1%82%D0%B8%D0%B5_1_%D0%9C%D0%B0%D1%82%D1%80%D0%B8%D1%86%D1%8B.ipynb\" target=\"_parent\"><img src=\"https://colab.research.google.com/assets/colab-badge.svg\" alt=\"Open In Colab\"/></a>"
      ]
    },
    {
      "cell_type": "markdown",
      "metadata": {
        "id": "cOTNHhnHNYnm",
        "colab_type": "text"
      },
      "source": [
        "#Курс \"Базовая математика\"\n",
        "#Занятие 1. Матрицы\n",
        "##Скаляры, векторы и матрицы"
      ]
    },
    {
      "cell_type": "markdown",
      "metadata": {
        "id": "THWbu4-2Op8J",
        "colab_type": "text"
      },
      "source": [
        "![alt text](https://drive.google.com/uc?id=1SdVkELm59y1FN4Sd8YDMI93W9HP10LZ-)\n"
      ]
    },
    {
      "cell_type": "code",
      "metadata": {
        "id": "SUlTP1BxTWWA",
        "colab_type": "code",
        "colab": {}
      },
      "source": [
        "import numpy as np"
      ],
      "execution_count": 0,
      "outputs": []
    },
    {
      "cell_type": "code",
      "metadata": {
        "id": "DdnEty9yNRzg",
        "colab_type": "code",
        "outputId": "afff4da8-6244-4ba2-b17e-66557cbcc544",
        "colab": {
          "base_uri": "https://localhost:8080/",
          "height": 109
        }
      },
      "source": [
        "scalar1 = 1\n",
        "scalar2 = 5\n",
        "scalar3 = 17.345\n",
        "scalar4 = -3.2476\n",
        "\n",
        "print('Скаляры')\n",
        "print(scalar1)\n",
        "print(scalar2)\n",
        "print(scalar3)\n",
        "print(scalar4)"
      ],
      "execution_count": 0,
      "outputs": [
        {
          "output_type": "stream",
          "text": [
            "Скаляры\n",
            "1\n",
            "5\n",
            "17.345\n",
            "-3.2476\n"
          ],
          "name": "stdout"
        }
      ]
    },
    {
      "cell_type": "code",
      "metadata": {
        "id": "E_LDcms4SVq4",
        "colab_type": "code",
        "outputId": "872c906a-4eec-4884-e5f2-bdf1a4700843",
        "colab": {
          "base_uri": "https://localhost:8080/",
          "height": 128
        }
      },
      "source": [
        "vector = np.array([1.3, 4.2, -2.2, 13.1])\n",
        "vector_vertical = np.array([1.3, 4.2, -2.2, 13.1]).reshape((4,1))\n",
        "\n",
        "print('Горизонтальный вектор:', vector)\n",
        "\n",
        "print('Вертикальный вектор:\\n', vector_vertical)"
      ],
      "execution_count": 0,
      "outputs": [
        {
          "output_type": "stream",
          "text": [
            "Горизонтальный вектор: [ 1.3  4.2 -2.2 13.1]\n",
            "Вертикальный вектор:\n",
            " [[ 1.3]\n",
            " [ 4.2]\n",
            " [-2.2]\n",
            " [13.1]]\n"
          ],
          "name": "stdout"
        }
      ]
    },
    {
      "cell_type": "code",
      "metadata": {
        "id": "VOfAWGp0uw5G",
        "colab_type": "code",
        "outputId": "aab6f6b3-6434-426c-ad98-df02ca8330b8",
        "colab": {
          "base_uri": "https://localhost:8080/",
          "height": 54
        }
      },
      "source": [
        "print(vector.shape)\n",
        "print(vector_vertical.shape)"
      ],
      "execution_count": 0,
      "outputs": [
        {
          "output_type": "stream",
          "text": [
            "(4,)\n",
            "(4, 1)\n"
          ],
          "name": "stdout"
        }
      ]
    },
    {
      "cell_type": "code",
      "metadata": {
        "id": "FqdbbFuEutDa",
        "colab_type": "code",
        "colab": {}
      },
      "source": [
        "def print_vector(v):\n",
        "  shape = v.shape\n",
        "  \n",
        "  if (len(shape) == 0):\n",
        "    print(v)\n",
        "    \n",
        "  if (len(shape) == 1):\n",
        "    s = ''\n",
        "    for i in v:\n",
        "      s += str(i) + '  '\n",
        "    print(s)\n",
        "      \n",
        "  if (len(shape) == 2):\n",
        "    for i in range(shape[0]):\n",
        "      s = ''\n",
        "      for j in range(shape[1]):\n",
        "        s += str(v[i][j]) + '  '\n",
        "      print(s)"
      ],
      "execution_count": 0,
      "outputs": []
    },
    {
      "cell_type": "code",
      "metadata": {
        "id": "hGHUbtUmvOrl",
        "colab_type": "code",
        "outputId": "6297ba38-507d-49ec-8809-bc298f4aae00",
        "colab": {
          "base_uri": "https://localhost:8080/",
          "height": 35
        }
      },
      "source": [
        "print_vector(vector)"
      ],
      "execution_count": 0,
      "outputs": [
        {
          "output_type": "stream",
          "text": [
            "1.3  4.2  -2.2  13.1  \n"
          ],
          "name": "stdout"
        }
      ]
    },
    {
      "cell_type": "code",
      "metadata": {
        "id": "j3ZCjcryvj68",
        "colab_type": "code",
        "outputId": "23f28541-779f-49a3-caeb-4238956527bd",
        "colab": {
          "base_uri": "https://localhost:8080/",
          "height": 91
        }
      },
      "source": [
        "print_vector(vector_vertical)"
      ],
      "execution_count": 0,
      "outputs": [
        {
          "output_type": "stream",
          "text": [
            "1.3  \n",
            "4.2  \n",
            "-2.2  \n",
            "13.1  \n"
          ],
          "name": "stdout"
        }
      ]
    },
    {
      "cell_type": "markdown",
      "metadata": {
        "id": "zQ0UDAoSxMkU",
        "colab_type": "text"
      },
      "source": [
        "##Операции с векторами"
      ]
    },
    {
      "cell_type": "markdown",
      "metadata": {
        "id": "cMasl43exO91",
        "colab_type": "text"
      },
      "source": [
        "###Операции вектор - скаляр\n",
        "![alt text](https://drive.google.com/uc?id=1xg5AnOyZpFiGniGeaH3UubiLH5jLrLKb)"
      ]
    },
    {
      "cell_type": "markdown",
      "metadata": {
        "id": "-LKrN_btxSwH",
        "colab_type": "text"
      },
      "source": [
        "**Добавление и вычитание скаляра**"
      ]
    },
    {
      "cell_type": "code",
      "metadata": {
        "id": "7_RcYQtLxWkd",
        "colab_type": "code",
        "outputId": "95c4041a-056d-4b55-d4fd-cc5a47701a21",
        "colab": {
          "base_uri": "https://localhost:8080/",
          "height": 72
        }
      },
      "source": [
        "print_vector(vector)\n",
        "print_vector(vector + 1)\n",
        "print_vector(vector - 2)"
      ],
      "execution_count": 0,
      "outputs": [
        {
          "output_type": "stream",
          "text": [
            "1.3  4.2  -2.2  13.1  \n",
            "2.3  5.2  -1.2000000000000002  14.1  \n",
            "-0.7  2.2  -4.2  11.1  \n"
          ],
          "name": "stdout"
        }
      ]
    },
    {
      "cell_type": "markdown",
      "metadata": {
        "id": "yndac8JuxcJz",
        "colab_type": "text"
      },
      "source": [
        "**Умножение на скаляр**"
      ]
    },
    {
      "cell_type": "code",
      "metadata": {
        "id": "8tPHI0FAxeeP",
        "colab_type": "code",
        "outputId": "237d271d-ec98-400e-cdb0-d0dc5ff45b09",
        "colab": {
          "base_uri": "https://localhost:8080/",
          "height": 35
        }
      },
      "source": [
        "print_vector(vector * 2)"
      ],
      "execution_count": 0,
      "outputs": [
        {
          "output_type": "stream",
          "text": [
            "2.6  8.4  -4.4  26.2  \n"
          ],
          "name": "stdout"
        }
      ]
    },
    {
      "cell_type": "markdown",
      "metadata": {
        "id": "jebqTT-5xhKy",
        "colab_type": "text"
      },
      "source": [
        "**Деление на скаляр**"
      ]
    },
    {
      "cell_type": "code",
      "metadata": {
        "id": "0W87CrUqxlIt",
        "colab_type": "code",
        "outputId": "57497b0f-5474-47b5-c702-88a846dce257",
        "colab": {
          "base_uri": "https://localhost:8080/",
          "height": 35
        }
      },
      "source": [
        "print_vector(vector / 4)"
      ],
      "execution_count": 0,
      "outputs": [
        {
          "output_type": "stream",
          "text": [
            "0.325  1.05  -0.55  3.275  \n"
          ],
          "name": "stdout"
        }
      ]
    },
    {
      "cell_type": "markdown",
      "metadata": {
        "id": "Q74LjkAcxnLf",
        "colab_type": "text"
      },
      "source": [
        "**Возведение в степень**"
      ]
    },
    {
      "cell_type": "code",
      "metadata": {
        "id": "po8k21BuxsGb",
        "colab_type": "code",
        "outputId": "bdf85669-814c-4c9a-d424-24e81851e373",
        "colab": {
          "base_uri": "https://localhost:8080/",
          "height": 35
        }
      },
      "source": [
        "print_vector(vector ** 2)"
      ],
      "execution_count": 0,
      "outputs": [
        {
          "output_type": "stream",
          "text": [
            "1.6900000000000002  17.64  4.840000000000001  171.60999999999999  \n"
          ],
          "name": "stdout"
        }
      ]
    },
    {
      "cell_type": "markdown",
      "metadata": {
        "id": "gFFhhTPKx5Mq",
        "colab_type": "text"
      },
      "source": [
        "###Операции вектор-вектор\n",
        "![link text](https://drive.google.com/uc?id=1qZzN-UnUTVRDX_OG3WZPawtbDFAFI3Nf)\n"
      ]
    },
    {
      "cell_type": "markdown",
      "metadata": {
        "id": "pktx0nKex9UM",
        "colab_type": "text"
      },
      "source": [
        "**Сложение и вычитание векторов**"
      ]
    },
    {
      "cell_type": "code",
      "metadata": {
        "id": "4IM6hPrFyCM1",
        "colab_type": "code",
        "colab": {}
      },
      "source": [
        "vector1 = np.array([0, 1, 2, 3])\n",
        "vector2 = np.array([1, 2, 3, 4])"
      ],
      "execution_count": 0,
      "outputs": []
    },
    {
      "cell_type": "code",
      "metadata": {
        "id": "FUnDlNtNyKsb",
        "colab_type": "code",
        "outputId": "0af894c6-20ce-4989-9a0b-79e2d48fba02",
        "colab": {
          "base_uri": "https://localhost:8080/",
          "height": 35
        }
      },
      "source": [
        "print_vector(vector1 + vector2)"
      ],
      "execution_count": 0,
      "outputs": [
        {
          "output_type": "stream",
          "text": [
            "1  3  5  7  \n"
          ],
          "name": "stdout"
        }
      ]
    },
    {
      "cell_type": "code",
      "metadata": {
        "id": "4IgT2ZUIyOzJ",
        "colab_type": "code",
        "outputId": "e946fb37-618d-431f-ee67-7592e7f7c3da",
        "colab": {
          "base_uri": "https://localhost:8080/",
          "height": 35
        }
      },
      "source": [
        "print_vector(vector1 - vector2)"
      ],
      "execution_count": 0,
      "outputs": [
        {
          "output_type": "stream",
          "text": [
            "-1  -1  -1  -1  \n"
          ],
          "name": "stdout"
        }
      ]
    },
    {
      "cell_type": "markdown",
      "metadata": {
        "id": "s32WB3UMybiU",
        "colab_type": "text"
      },
      "source": [
        "**Умножение и деление векторов**"
      ]
    },
    {
      "cell_type": "code",
      "metadata": {
        "id": "6jmaxPkgyhXL",
        "colab_type": "code",
        "outputId": "fa3a65d3-0485-4636-cde1-1b408b64497c",
        "colab": {
          "base_uri": "https://localhost:8080/",
          "height": 35
        }
      },
      "source": [
        "print_vector(vector1 * vector2)"
      ],
      "execution_count": 0,
      "outputs": [
        {
          "output_type": "stream",
          "text": [
            "0  2  6  12  \n"
          ],
          "name": "stdout"
        }
      ]
    },
    {
      "cell_type": "code",
      "metadata": {
        "id": "LV0tV2P1ym7q",
        "colab_type": "code",
        "outputId": "0cb1389e-3681-4ad3-f63f-17886589735b",
        "colab": {
          "base_uri": "https://localhost:8080/",
          "height": 35
        }
      },
      "source": [
        "print_vector(vector1 / vector2)"
      ],
      "execution_count": 0,
      "outputs": [
        {
          "output_type": "stream",
          "text": [
            "0.0  0.5  0.6666666666666666  0.75  \n"
          ],
          "name": "stdout"
        }
      ]
    },
    {
      "cell_type": "markdown",
      "metadata": {
        "id": "UrxHEPoLyeLi",
        "colab_type": "text"
      },
      "source": [
        "**Возведение в степень**"
      ]
    },
    {
      "cell_type": "code",
      "metadata": {
        "id": "RtJRdlNRyg6R",
        "colab_type": "code",
        "outputId": "d9adde83-2b40-4710-e20b-88fa8ce81f15",
        "colab": {
          "base_uri": "https://localhost:8080/",
          "height": 35
        }
      },
      "source": [
        "print_vector(vector1 ** vector2)"
      ],
      "execution_count": 0,
      "outputs": [
        {
          "output_type": "stream",
          "text": [
            "0  1  8  81  \n"
          ],
          "name": "stdout"
        }
      ]
    },
    {
      "cell_type": "markdown",
      "metadata": {
        "id": "C4gEEYGpy3VP",
        "colab_type": "text"
      },
      "source": [
        "#Матрицы"
      ]
    },
    {
      "cell_type": "markdown",
      "metadata": {
        "id": "cSPlGvGS0CVD",
        "colab_type": "text"
      },
      "source": [
        "##Пример матрицы"
      ]
    },
    {
      "cell_type": "code",
      "metadata": {
        "id": "RnMxh5Tw0Eoo",
        "colab_type": "code",
        "colab": {}
      },
      "source": [
        "matrix = np.array([[0, 1, 2], [1, 2, 3], [2, 3, 4]])"
      ],
      "execution_count": 0,
      "outputs": []
    },
    {
      "cell_type": "code",
      "metadata": {
        "id": "o4B1Mr5e0Ksz",
        "colab_type": "code",
        "outputId": "8d7595db-7d7e-42f0-f0bb-9bff270a06da",
        "colab": {
          "base_uri": "https://localhost:8080/",
          "height": 72
        }
      },
      "source": [
        "print_vector(matrix)"
      ],
      "execution_count": 0,
      "outputs": [
        {
          "output_type": "stream",
          "text": [
            "0  1  2  \n",
            "1  2  3  \n",
            "2  3  4  \n"
          ],
          "name": "stdout"
        }
      ]
    },
    {
      "cell_type": "markdown",
      "metadata": {
        "id": "uk7a53kA1Iku",
        "colab_type": "text"
      },
      "source": [
        "##Цикл по матрице\n",
        "Для примера, найдём максимум матрицы"
      ]
    },
    {
      "cell_type": "code",
      "metadata": {
        "id": "Duu2gXju1NPc",
        "colab_type": "code",
        "outputId": "155f53e2-2189-4e9c-cec6-d110068209be",
        "colab": {
          "base_uri": "https://localhost:8080/",
          "height": 72
        }
      },
      "source": [
        "matrix2 = np.array([[145, 23, 191], [17, 252, 31], [99, 112, 39]])\n",
        "print_vector(matrix2)"
      ],
      "execution_count": 0,
      "outputs": [
        {
          "output_type": "stream",
          "text": [
            "145  23  191  \n",
            "17  252  31  \n",
            "99  112  39  \n"
          ],
          "name": "stdout"
        }
      ]
    },
    {
      "cell_type": "code",
      "metadata": {
        "id": "2EQjYbQm1ZLH",
        "colab_type": "code",
        "outputId": "a4262b5c-0010-4a1d-dbcf-60a97f5d979a",
        "colab": {
          "base_uri": "https://localhost:8080/",
          "height": 35
        }
      },
      "source": [
        "matrix_max = 0\n",
        "\n",
        "for i in range(matrix2.shape[0]):\n",
        "  for j in range(matrix2.shape[1]):\n",
        "    if (matrix2[i,j] > matrix_max):\n",
        "      matrix_max = matrix2[i,j]\n",
        "\n",
        "print('Максимум матрицы =', matrix_max)"
      ],
      "execution_count": 0,
      "outputs": [
        {
          "output_type": "stream",
          "text": [
            "Максимум матрицы = 252\n"
          ],
          "name": "stdout"
        }
      ]
    },
    {
      "cell_type": "markdown",
      "metadata": {
        "id": "7DZziZ483vCz",
        "colab_type": "text"
      },
      "source": [
        "##Операции с матрицами"
      ]
    },
    {
      "cell_type": "markdown",
      "metadata": {
        "id": "sko2_26F3x9i",
        "colab_type": "text"
      },
      "source": [
        "###Операции матрица - скаляр\n",
        "- добавление\n",
        "- вычитание\n",
        "- умножение\n",
        "- деление\n",
        "- возведение в степень\n",
        "![link text](https://drive.google.com/uc?id=1oLRLWVMl2lTZXutpCg_VXhRKrPOqlO_V)"
      ]
    },
    {
      "cell_type": "code",
      "metadata": {
        "id": "lOntmXD2362j",
        "colab_type": "code",
        "outputId": "5c74d000-a42c-4e46-f16b-7882519adfc9",
        "colab": {
          "base_uri": "https://localhost:8080/",
          "height": 368
        }
      },
      "source": [
        "print('Добавление')\n",
        "print_vector(matrix + 1)\n",
        "\n",
        "print()\n",
        "print('Умножение')\n",
        "print_vector(matrix * 2)\n",
        "\n",
        "print()\n",
        "print('Деление')\n",
        "print_vector(matrix / 4)\n",
        "\n",
        "print()\n",
        "print('Возведение в степень')\n",
        "print_vector(matrix ** 2)"
      ],
      "execution_count": 0,
      "outputs": [
        {
          "output_type": "stream",
          "text": [
            "Добавление\n",
            "1  2  3  \n",
            "2  3  4  \n",
            "3  4  5  \n",
            "\n",
            "Умножение\n",
            "0  2  4  \n",
            "2  4  6  \n",
            "4  6  8  \n",
            "\n",
            "Деление\n",
            "0.0  0.25  0.5  \n",
            "0.25  0.5  0.75  \n",
            "0.5  0.75  1.0  \n",
            "\n",
            "Возведение в степень\n",
            "0  1  4  \n",
            "1  4  9  \n",
            "4  9  16  \n"
          ],
          "name": "stdout"
        }
      ]
    },
    {
      "cell_type": "markdown",
      "metadata": {
        "id": "C4hf_e234T8b",
        "colab_type": "text"
      },
      "source": [
        "###Поэлементные операции с матрицами\n",
        "![link text](https://drive.google.com/uc?id=1MzSTEzCgi7e89ZrYeTKoxtf7HWYOb3a1)"
      ]
    },
    {
      "cell_type": "code",
      "metadata": {
        "id": "_OYpOrUc4Yh8",
        "colab_type": "code",
        "outputId": "62d760b1-1412-4236-8e96-52635602eb71",
        "colab": {
          "base_uri": "https://localhost:8080/",
          "height": 368
        }
      },
      "source": [
        "print('Добавление')\n",
        "print_vector(matrix + matrix2)\n",
        "\n",
        "print()\n",
        "print('Умножение')\n",
        "print_vector(matrix * matrix2)\n",
        "\n",
        "print()\n",
        "print('Деление')\n",
        "print_vector(matrix / matrix2)\n",
        "\n",
        "print()\n",
        "print('Возведение в степень')\n",
        "print_vector(matrix2 ** matrix)"
      ],
      "execution_count": 0,
      "outputs": [
        {
          "output_type": "stream",
          "text": [
            "Добавление\n",
            "145  24  193  \n",
            "18  254  34  \n",
            "101  115  43  \n",
            "\n",
            "Умножение\n",
            "0  23  382  \n",
            "17  504  93  \n",
            "198  336  156  \n",
            "\n",
            "Деление\n",
            "0.0  0.043478260869565216  0.010471204188481676  \n",
            "0.058823529411764705  0.007936507936507936  0.0967741935483871  \n",
            "0.020202020202020204  0.026785714285714284  0.10256410256410256  \n",
            "\n",
            "Возведение в степень\n",
            "1  23  36481  \n",
            "17  63504  29791  \n",
            "9801  1404928  2313441  \n"
          ],
          "name": "stdout"
        }
      ]
    },
    {
      "cell_type": "markdown",
      "metadata": {
        "id": "1ozH6bta426K",
        "colab_type": "text"
      },
      "source": [
        "###Умножение матриц\n",
        "Ячейка i, j новой матрицы равна сумме умножения по элементам\n",
        "- строки i первой матрицы\n",
        "- колонки j второй матрицы\n",
        "![alt text](https://drive.google.com/uc?id=1a4NtU-kJzjpXyJOcDW0eeB7vOpR9H9aC)"
      ]
    },
    {
      "cell_type": "code",
      "metadata": {
        "id": "sZfD79xP5D-P",
        "colab_type": "code",
        "colab": {}
      },
      "source": [
        "def prod_matrix(matrix1, matrix2):\n",
        "  shape1 = matrix1.shape\n",
        "  shape2 = matrix2.shape\n",
        "  \n",
        "  if (shape1[1] != shape2[0]):\n",
        "    return np.array([])\n",
        "  \n",
        "  out_matrix = np.zeros((shape1[0], shape2[1]))\n",
        "  \n",
        "  for i in range(shape1[0]):\n",
        "    for j in range(shape2[1]):\n",
        "      curr_cell = 0\n",
        "      for t in range(shape1[1]):\n",
        "        curr_cell += matrix1[i,t] * matrix2[t,j]\n",
        "        out_matrix[i,j] = curr_cell\n",
        "  \n",
        "  return out_matrix"
      ],
      "execution_count": 0,
      "outputs": []
    },
    {
      "cell_type": "code",
      "metadata": {
        "id": "GtBzLdOQ6xzV",
        "colab_type": "code",
        "outputId": "f9a50342-55c1-45ad-cad4-544cc40d37d9",
        "colab": {
          "base_uri": "https://localhost:8080/",
          "height": 165
        }
      },
      "source": [
        "matrix1 = np.array([[0, 1, 2], [1, 2, 3], [2, 3, 4], [3, 4, 5]])\n",
        "matrix2 = np.array([[0, 1, 2, 3], [1, 2, 3, 4], [2, 3, 4, 5]])\n",
        "\n",
        "print_vector(matrix1)\n",
        "print()\n",
        "print_vector(matrix2)"
      ],
      "execution_count": 0,
      "outputs": [
        {
          "output_type": "stream",
          "text": [
            "0  1  2  \n",
            "1  2  3  \n",
            "2  3  4  \n",
            "3  4  5  \n",
            "\n",
            "0  1  2  3  \n",
            "1  2  3  4  \n",
            "2  3  4  5  \n"
          ],
          "name": "stdout"
        }
      ]
    },
    {
      "cell_type": "code",
      "metadata": {
        "id": "R6JxaYQ37Fdm",
        "colab_type": "code",
        "outputId": "4b06219c-2932-44fa-d3bf-ca0532a1f4dc",
        "colab": {
          "base_uri": "https://localhost:8080/",
          "height": 91
        }
      },
      "source": [
        "matrix3 = prod_matrix(matrix1, matrix2)\n",
        "print_vector(matrix3)"
      ],
      "execution_count": 0,
      "outputs": [
        {
          "output_type": "stream",
          "text": [
            "5.0  8.0  11.0  14.0  \n",
            "8.0  14.0  20.0  26.0  \n",
            "11.0  20.0  29.0  38.0  \n",
            "14.0  26.0  38.0  50.0  \n"
          ],
          "name": "stdout"
        }
      ]
    },
    {
      "cell_type": "markdown",
      "metadata": {
        "id": "aGPwCBzqAePA",
        "colab_type": "text"
      },
      "source": [
        "###Умножение векторов в матрицу\n",
        "![link text](https://drive.google.com/uc?id=1TgzDXjnovEEeSTt7BjoWT6S77IP3ZDF2)"
      ]
    },
    {
      "cell_type": "code",
      "metadata": {
        "id": "XwlZQSYaAl96",
        "colab_type": "code",
        "outputId": "6d0c9ba8-3f60-4d15-e2c0-31fe3ff83798",
        "colab": {
          "base_uri": "https://localhost:8080/",
          "height": 331
        }
      },
      "source": [
        "vector1 = np.array([1, 2, 3, 4]).reshape((1,4))\n",
        "vector2 = np.array([5, 4, 3]).reshape((3,1))\n",
        "\n",
        "print('Первый вектор')\n",
        "print_vector(vector1)\n",
        "print()\n",
        "print('Второй вектор')\n",
        "print_vector(vector2)\n",
        "\n",
        "\n",
        "matrix4 = prod_matrix(vector2, vector1)\n",
        "\n",
        "print()\n",
        "print('Итоговая матрица')\n",
        "print_vector(matrix4)\n",
        "\n",
        "print()\n",
        "print('Првоерка размерности')\n",
        "print(vector2.shape)\n",
        "print(vector1.shape)\n",
        "print(matrix4.shape)"
      ],
      "execution_count": 0,
      "outputs": [
        {
          "output_type": "stream",
          "text": [
            "Первый вектор\n",
            "1  2  3  4  \n",
            "\n",
            "Второй вектор\n",
            "5  \n",
            "4  \n",
            "3  \n",
            "\n",
            "Итоговая матрица\n",
            "5.0  10.0  15.0  20.0  \n",
            "4.0  8.0  12.0  16.0  \n",
            "3.0  6.0  9.0  12.0  \n",
            "\n",
            "Првоерка размерности\n",
            "(3, 1)\n",
            "(1, 4)\n",
            "(3, 4)\n"
          ],
          "name": "stdout"
        }
      ]
    },
    {
      "cell_type": "markdown",
      "metadata": {
        "id": "Nez5HYj-3zqr",
        "colab_type": "text"
      },
      "source": [
        "###Умножение матрицы на вектор\n",
        "![link text](https://drive.google.com/uc?id=19-qTGxHbUe6l96XVA5fiMOwwNHb8VT8D)\n",
        "\n",
        "![link text](https://drive.google.com/uc?id=1VJNpv1hmvjqqE03tR7WQFSBnAykC3gDK)"
      ]
    },
    {
      "cell_type": "markdown",
      "metadata": {
        "id": "CdO_em6zBt6P",
        "colab_type": "text"
      },
      "source": [
        "###Транспонирование матриц\n",
        "![link text](https://drive.google.com/uc?id=1vgodAPexaLD_FRNYuwrK7Pl2Lx9uK82z)"
      ]
    },
    {
      "cell_type": "code",
      "metadata": {
        "id": "KtmmlGtaBwhE",
        "colab_type": "code",
        "colab": {}
      },
      "source": [
        "def transpose_matrix(matrix):\n",
        "  shape = matrix.shape\n",
        "  \n",
        "  out_matrix = np.zeros((shape[1], shape[0]))\n",
        "  \n",
        "  for i in range(shape[0]):\n",
        "    for j in range(shape[1]):\n",
        "      out_matrix[j,i] = matrix[i,j]\n",
        "  \n",
        "  return out_matrix"
      ],
      "execution_count": 0,
      "outputs": []
    },
    {
      "cell_type": "code",
      "metadata": {
        "id": "DhERn644GjXB",
        "colab_type": "code",
        "outputId": "09f7cb3a-23a6-4b26-e42c-fc9d7b4c4823",
        "colab": {
          "base_uri": "https://localhost:8080/",
          "height": 202
        }
      },
      "source": [
        "transpose_matrix = transpose_matrix(matrix1)\n",
        "\n",
        "print('Оригинальная матрица')\n",
        "print_vector(matrix1)\n",
        "\n",
        "print()\n",
        "print('Транспонированная матрица')\n",
        "print_vector(transpose_matrix)"
      ],
      "execution_count": 0,
      "outputs": [
        {
          "output_type": "stream",
          "text": [
            "Оригинальная матрица\n",
            "0  1  2  \n",
            "1  2  3  \n",
            "2  3  4  \n",
            "3  4  5  \n",
            "\n",
            "Транспонированная матрица\n",
            "0.0  1.0  2.0  3.0  \n",
            "1.0  2.0  3.0  4.0  \n",
            "2.0  3.0  4.0  5.0  \n"
          ],
          "name": "stdout"
        }
      ]
    },
    {
      "cell_type": "markdown",
      "metadata": {
        "id": "o3_K_LPHHQDg",
        "colab_type": "text"
      },
      "source": [
        "###Обратные матрицы\n",
        "Обратная матрица, это такая матрица, при умножении на которую, исходная матрица превратится в матрицу с 1 на диагонали и 0 в остальных ячейках\n",
        "![link text](https://drive.google.com/uc?id=11cxOXWSLI_LqEK2LnyW8F5fQWgSRRccN)"
      ]
    },
    {
      "cell_type": "code",
      "metadata": {
        "id": "hfEeg65QIWny",
        "colab_type": "code",
        "colab": {}
      },
      "source": [
        "matrix_4_inv = np.array([[4, 1, 3], [3, 5, 2], [2, 6, 4]])"
      ],
      "execution_count": 0,
      "outputs": []
    },
    {
      "cell_type": "code",
      "metadata": {
        "id": "rpq9zDqFHR4M",
        "colab_type": "code",
        "outputId": "ef76bbfa-2343-4114-9577-68dc3f944956",
        "colab": {
          "base_uri": "https://localhost:8080/",
          "height": 72
        }
      },
      "source": [
        "inv_matrix = np.linalg.inv(matrix_4_inv)\n",
        "print_vector(inv_matrix)"
      ],
      "execution_count": 0,
      "outputs": [
        {
          "output_type": "stream",
          "text": [
            "0.16666666666666669  0.29166666666666663  -0.2708333333333333  \n",
            "-0.16666666666666669  0.20833333333333337  0.020833333333333322  \n",
            "0.16666666666666669  -0.45833333333333337  0.3541666666666667  \n"
          ],
          "name": "stdout"
        }
      ]
    },
    {
      "cell_type": "code",
      "metadata": {
        "id": "_BwpSuexIpio",
        "colab_type": "code",
        "outputId": "1f8ff19c-c26e-45bd-df90-014648827278",
        "colab": {
          "base_uri": "https://localhost:8080/",
          "height": 72
        }
      },
      "source": [
        "result_matrix = prod_matrix(matrix_4_inv, inv_matrix)\n",
        "print_vector(result_matrix)"
      ],
      "execution_count": 0,
      "outputs": [
        {
          "output_type": "stream",
          "text": [
            "1.0  0.0  0.0  \n",
            "-1.1102230246251565e-16  1.0000000000000002  0.0  \n",
            "1.1102230246251565e-16  0.0  1.0  \n"
          ],
          "name": "stdout"
        }
      ]
    },
    {
      "cell_type": "markdown",
      "metadata": {
        "id": "C4kEFD2W5lVe",
        "colab_type": "text"
      },
      "source": [
        "#Домашнее задание"
      ]
    },
    {
      "cell_type": "markdown",
      "metadata": {
        "id": "jplDGhCV53xQ",
        "colab_type": "text"
      },
      "source": [
        "**Задача 1**\n",
        "\n",
        "Напишите функцию умножения трёх матриц"
      ]
    },
    {
      "cell_type": "code",
      "metadata": {
        "id": "o9PT7GXO6o9t",
        "colab_type": "code",
        "colab": {}
      },
      "source": [
        ""
      ],
      "execution_count": 0,
      "outputs": []
    },
    {
      "cell_type": "markdown",
      "metadata": {
        "id": "BJJkft2r6svS",
        "colab_type": "text"
      },
      "source": [
        "**Задача 2**\n",
        "\n",
        "Напишите функцию, которая считает разницу между максимальным и минимальным элементами матрицы"
      ]
    },
    {
      "cell_type": "code",
      "metadata": {
        "id": "l_QbGpbW66WR",
        "colab_type": "code",
        "colab": {}
      },
      "source": [
        ""
      ],
      "execution_count": 0,
      "outputs": []
    },
    {
      "cell_type": "markdown",
      "metadata": {
        "id": "d60LHjWW66gh",
        "colab_type": "text"
      },
      "source": [
        "**Задача 3**\n",
        "\n",
        "Напишите функцию, которая\n",
        "- умножает матрицу на саму себя, но транспонированную\n",
        "- берёт обратную матрицу от результата"
      ]
    },
    {
      "cell_type": "code",
      "metadata": {
        "id": "jB3Nh4xP7cGy",
        "colab_type": "code",
        "colab": {}
      },
      "source": [
        ""
      ],
      "execution_count": 0,
      "outputs": []
    }
  ]
}